{
  "nbformat": 4,
  "nbformat_minor": 0,
  "metadata": {
    "kernelspec": {
      "display_name": "R",
      "language": "R",
      "name": "ir"
    },
    "language_info": {
      "codemirror_mode": "r",
      "file_extension": ".r",
      "mimetype": "text/x-r-source",
      "name": "R",
      "pygments_lexer": "r",
      "version": "3.3.1"
    },
    "colab": {
      "name": "Smoking",
      "provenance": [],
      "collapsed_sections": [],
      "include_colab_link": true
    }
  },
  "cells": [
    {
      "cell_type": "markdown",
      "metadata": {
        "id": "view-in-github",
        "colab_type": "text"
      },
      "source": [
        "<a href=\"https://colab.research.google.com/github/ahmedmoustafa/maternal-smoking/blob/main/smoking.ipynb\" target=\"_parent\"><img src=\"https://colab.research.google.com/assets/colab-badge.svg\" alt=\"Open In Colab\"/></a>"
      ]
    },
    {
      "cell_type": "markdown",
      "metadata": {
        "id": "7G9n7ivlqpYU"
      },
      "source": [
        "# Maternal Smoking and Birth Weight\n",
        "---"
      ]
    },
    {
      "cell_type": "code",
      "metadata": {
        "id": "_TiXy1LRVKCc",
        "colab": {
          "base_uri": "https://localhost:8080/"
        },
        "outputId": "0621517e-46e9-422b-ca39-6357894f4071"
      },
      "source": [
        "library (tidyverse)"
      ],
      "execution_count": 1,
      "outputs": [
        {
          "output_type": "stream",
          "text": [
            "Warning message in system(\"timedatectl\", intern = TRUE):\n",
            "“running command 'timedatectl' had status 1”\n",
            "── \u001b[1mAttaching packages\u001b[22m ─────────────────────────────────────── tidyverse 1.3.1 ──\n",
            "\n",
            "\u001b[32m✔\u001b[39m \u001b[34mggplot2\u001b[39m 3.3.3     \u001b[32m✔\u001b[39m \u001b[34mpurrr  \u001b[39m 0.3.4\n",
            "\u001b[32m✔\u001b[39m \u001b[34mtibble \u001b[39m 3.1.1     \u001b[32m✔\u001b[39m \u001b[34mdplyr  \u001b[39m 1.0.5\n",
            "\u001b[32m✔\u001b[39m \u001b[34mtidyr  \u001b[39m 1.1.3     \u001b[32m✔\u001b[39m \u001b[34mstringr\u001b[39m 1.4.0\n",
            "\u001b[32m✔\u001b[39m \u001b[34mreadr  \u001b[39m 1.4.0     \u001b[32m✔\u001b[39m \u001b[34mforcats\u001b[39m 0.5.1\n",
            "\n",
            "── \u001b[1mConflicts\u001b[22m ────────────────────────────────────────── tidyverse_conflicts() ──\n",
            "\u001b[31m✖\u001b[39m \u001b[34mdplyr\u001b[39m::\u001b[32mfilter()\u001b[39m masks \u001b[34mstats\u001b[39m::filter()\n",
            "\u001b[31m✖\u001b[39m \u001b[34mdplyr\u001b[39m::\u001b[32mlag()\u001b[39m    masks \u001b[34mstats\u001b[39m::lag()\n",
            "\n"
          ],
          "name": "stderr"
        }
      ]
    },
    {
      "cell_type": "code",
      "metadata": {
        "id": "1jEz8SRhVMK6",
        "colab": {
          "base_uri": "https://localhost:8080/"
        },
        "outputId": "ff622f6d-a18a-44a6-bb7e-3b8d3b0ec4f6"
      },
      "source": [
        "data = read_tsv(\"https://raw.githubusercontent.com/ahmedmoustafa/sandbox/main/Smoking/smoking.tsv?token=AAHKD3JIRSBYBNP6O7OYMTTAVUATO\")"
      ],
      "execution_count": 2,
      "outputs": [
        {
          "output_type": "stream",
          "text": [
            "\n",
            "\u001b[36m──\u001b[39m \u001b[1m\u001b[1mColumn specification\u001b[1m\u001b[22m \u001b[36m────────────────────────────────────────────────────────\u001b[39m\n",
            "cols(\n",
            "  .default = col_double(),\n",
            "  mom.race = \u001b[31mcol_character()\u001b[39m,\n",
            "  dad.race = \u001b[31mcol_character()\u001b[39m,\n",
            "  smoke = \u001b[31mcol_character()\u001b[39m\n",
            ")\n",
            "\u001b[36mℹ\u001b[39m Use \u001b[30m\u001b[47m\u001b[30m\u001b[47m`spec()`\u001b[47m\u001b[30m\u001b[49m\u001b[39m for the full column specifications.\n",
            "\n",
            "\n"
          ],
          "name": "stderr"
        }
      ]
    },
    {
      "cell_type": "code",
      "metadata": {
        "colab": {
          "base_uri": "https://localhost:8080/"
        },
        "id": "wTf4yrmgwNdz",
        "outputId": "83898d10-dc99-4afe-8f9e-4f7de3d05e14"
      },
      "source": [
        "glimpse(data)"
      ],
      "execution_count": 3,
      "outputs": [
        {
          "output_type": "stream",
          "text": [
            "Rows: 610\n",
            "Columns: 20\n",
            "$ id         \u001b[3m\u001b[90m<dbl>\u001b[39m\u001b[23m 15, 20, 100, 129, 142, 171, 195, 217, 240, 274, 291, 294, 3…\n",
            "$ date       \u001b[3m\u001b[90m<dbl>\u001b[39m\u001b[23m 1411, 1499, 1673, 1562, 1408, 1593, 1501, 1605, 1647, 1554,…\n",
            "$ gestation  \u001b[3m\u001b[90m<dbl>\u001b[39m\u001b[23m 284, 282, 286, 245, 289, 282, 285, 261, 288, 274, 287, 276,…\n",
            "$ weight     \u001b[3m\u001b[90m<dbl>\u001b[39m\u001b[23m 120, 113, 136, 132, 120, 144, 115, 115, 119, 115, 137, 122,…\n",
            "$ parity     \u001b[3m\u001b[90m<dbl>\u001b[39m\u001b[23m 1, 2, 4, 2, 3, 4, 4, 3, 3, 1, 1, 6, 1, 3, 2, 3, 2, 1, 1, 2,…\n",
            "$ mom.race   \u001b[3m\u001b[90m<chr>\u001b[39m\u001b[23m \"asian\", \"white\", \"white\", \"black\", \"white\", \"white\", \"blac…\n",
            "$ mom.age    \u001b[3m\u001b[90m<dbl>\u001b[39m\u001b[23m 27, 33, 25, 23, 25, 32, 38, 33, 43, 27, 25, 30, 26, 32, 28,…\n",
            "$ mom.edu    \u001b[3m\u001b[90m<dbl>\u001b[39m\u001b[23m 5, 5, 2, 1, 4, 2, 2, 2, 2, 4, 4, 1, 0, 2, 5, 1, 2, 2, 5, 2,…\n",
            "$ mom.height \u001b[3m\u001b[90m<dbl>\u001b[39m\u001b[23m 62, 64, 62, 65, 62, 64, 63, 60, 66, 67, 66, 68, 58, 65, 66,…\n",
            "$ mom.weight \u001b[3m\u001b[90m<dbl>\u001b[39m\u001b[23m 100, 135, 93, 140, 125, 124, 130, 125, 142, 175, 145, 182, …\n",
            "$ dad.race   \u001b[3m\u001b[90m<chr>\u001b[39m\u001b[23m \"asian\", \"white\", \"white\", \"black\", \"white\", \"white\", \"blac…\n",
            "$ dad.age    \u001b[3m\u001b[90m<dbl>\u001b[39m\u001b[23m 31, 38, 28, 23, 26, 36, 37, 33, 45, 26, 25, 38, 29, 29, 31,…\n",
            "$ dad.edu    \u001b[3m\u001b[90m<dbl>\u001b[39m\u001b[23m 5, 5, 2, 4, 1, 1, 0, 2, 2, 4, 5, 1, 2, 5, 5, 2, 2, 2, 5, 1,…\n",
            "$ dad.height \u001b[3m\u001b[90m<dbl>\u001b[39m\u001b[23m 65, 70, 64, 71, 70, 74, 71, 70, 73, 73, 70, 73, 68, 67, 70,…\n",
            "$ dad.weight \u001b[3m\u001b[90m<dbl>\u001b[39m\u001b[23m 110, 148, 130, 192, 180, 185, 205, 140, 195, 180, 150, 196,…\n",
            "$ marital    \u001b[3m\u001b[90m<dbl>\u001b[39m\u001b[23m 1, 1, 1, 1, 0, 1, 1, 1, 1, 1, 1, 1, 1, 1, 1, 1, 1, 1, 1, 1,…\n",
            "$ income     \u001b[3m\u001b[90m<dbl>\u001b[39m\u001b[23m 1, 4, 4, 2, 2, 2, 1, 4, 5, 3, 2, 2, 2, 1, 6, 4, 7, 2, 4, 1,…\n",
            "$ smoke      \u001b[3m\u001b[90m<chr>\u001b[39m\u001b[23m \"never\", \"never\", \"until_pregnancy\", \"never\", \"never\", \"now…\n",
            "$ quit.time  \u001b[3m\u001b[90m<dbl>\u001b[39m\u001b[23m 0, 0, 2, 0, 0, 1, 0, 1, 1, 1, 2, 0, 2, 0, 1, 2, 4, 0, 4, 1,…\n",
            "$ cigs       \u001b[3m\u001b[90m<dbl>\u001b[39m\u001b[23m 0, 0, 2, 0, 0, 1, 0, 5, 6, 9, 5, 0, 1, 0, 5, 1, 1, 0, 5, 5,…\n"
          ],
          "name": "stdout"
        }
      ]
    },
    {
      "cell_type": "code",
      "metadata": {
        "colab": {
          "base_uri": "https://localhost:8080/"
        },
        "id": "hOE2Lm2TwPsq",
        "outputId": "df5737db-1d93-41e7-c05b-ce09c6ee7b30"
      },
      "source": [
        "data = data %>% mutate (smoke = factor(smoke, levels = c(\"never\", \"once_not_now\", \"until_pregnancy\", \"now\")))\n",
        "glimpse(data)"
      ],
      "execution_count": 4,
      "outputs": [
        {
          "output_type": "stream",
          "text": [
            "Rows: 610\n",
            "Columns: 20\n",
            "$ id         \u001b[3m\u001b[90m<dbl>\u001b[39m\u001b[23m 15, 20, 100, 129, 142, 171, 195, 217, 240, 274, 291, 294, 3…\n",
            "$ date       \u001b[3m\u001b[90m<dbl>\u001b[39m\u001b[23m 1411, 1499, 1673, 1562, 1408, 1593, 1501, 1605, 1647, 1554,…\n",
            "$ gestation  \u001b[3m\u001b[90m<dbl>\u001b[39m\u001b[23m 284, 282, 286, 245, 289, 282, 285, 261, 288, 274, 287, 276,…\n",
            "$ weight     \u001b[3m\u001b[90m<dbl>\u001b[39m\u001b[23m 120, 113, 136, 132, 120, 144, 115, 115, 119, 115, 137, 122,…\n",
            "$ parity     \u001b[3m\u001b[90m<dbl>\u001b[39m\u001b[23m 1, 2, 4, 2, 3, 4, 4, 3, 3, 1, 1, 6, 1, 3, 2, 3, 2, 1, 1, 2,…\n",
            "$ mom.race   \u001b[3m\u001b[90m<chr>\u001b[39m\u001b[23m \"asian\", \"white\", \"white\", \"black\", \"white\", \"white\", \"blac…\n",
            "$ mom.age    \u001b[3m\u001b[90m<dbl>\u001b[39m\u001b[23m 27, 33, 25, 23, 25, 32, 38, 33, 43, 27, 25, 30, 26, 32, 28,…\n",
            "$ mom.edu    \u001b[3m\u001b[90m<dbl>\u001b[39m\u001b[23m 5, 5, 2, 1, 4, 2, 2, 2, 2, 4, 4, 1, 0, 2, 5, 1, 2, 2, 5, 2,…\n",
            "$ mom.height \u001b[3m\u001b[90m<dbl>\u001b[39m\u001b[23m 62, 64, 62, 65, 62, 64, 63, 60, 66, 67, 66, 68, 58, 65, 66,…\n",
            "$ mom.weight \u001b[3m\u001b[90m<dbl>\u001b[39m\u001b[23m 100, 135, 93, 140, 125, 124, 130, 125, 142, 175, 145, 182, …\n",
            "$ dad.race   \u001b[3m\u001b[90m<chr>\u001b[39m\u001b[23m \"asian\", \"white\", \"white\", \"black\", \"white\", \"white\", \"blac…\n",
            "$ dad.age    \u001b[3m\u001b[90m<dbl>\u001b[39m\u001b[23m 31, 38, 28, 23, 26, 36, 37, 33, 45, 26, 25, 38, 29, 29, 31,…\n",
            "$ dad.edu    \u001b[3m\u001b[90m<dbl>\u001b[39m\u001b[23m 5, 5, 2, 4, 1, 1, 0, 2, 2, 4, 5, 1, 2, 5, 5, 2, 2, 2, 5, 1,…\n",
            "$ dad.height \u001b[3m\u001b[90m<dbl>\u001b[39m\u001b[23m 65, 70, 64, 71, 70, 74, 71, 70, 73, 73, 70, 73, 68, 67, 70,…\n",
            "$ dad.weight \u001b[3m\u001b[90m<dbl>\u001b[39m\u001b[23m 110, 148, 130, 192, 180, 185, 205, 140, 195, 180, 150, 196,…\n",
            "$ marital    \u001b[3m\u001b[90m<dbl>\u001b[39m\u001b[23m 1, 1, 1, 1, 0, 1, 1, 1, 1, 1, 1, 1, 1, 1, 1, 1, 1, 1, 1, 1,…\n",
            "$ income     \u001b[3m\u001b[90m<dbl>\u001b[39m\u001b[23m 1, 4, 4, 2, 2, 2, 1, 4, 5, 3, 2, 2, 2, 1, 6, 4, 7, 2, 4, 1,…\n",
            "$ smoke      \u001b[3m\u001b[90m<fct>\u001b[39m\u001b[23m never, never, until_pregnancy, never, never, now, never, no…\n",
            "$ quit.time  \u001b[3m\u001b[90m<dbl>\u001b[39m\u001b[23m 0, 0, 2, 0, 0, 1, 0, 1, 1, 1, 2, 0, 2, 0, 1, 2, 4, 0, 4, 1,…\n",
            "$ cigs       \u001b[3m\u001b[90m<dbl>\u001b[39m\u001b[23m 0, 0, 2, 0, 0, 1, 0, 5, 6, 9, 5, 0, 1, 0, 5, 1, 1, 0, 5, 5,…\n"
          ],
          "name": "stdout"
        }
      ]
    },
    {
      "cell_type": "code",
      "metadata": {
        "id": "9iICgWMz97Aa"
      },
      "source": [
        ""
      ],
      "execution_count": 5,
      "outputs": []
    }
  ]
}